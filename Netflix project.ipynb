{
 "cells": [
  {
   "cell_type": "markdown",
   "id": "f9af15e9",
   "metadata": {},
   "source": [
    "# Netflix Movies and TV Shows Analysis\n",
    "\n",
    "\n",
    "### Table of Contents\n",
    "\n",
    "* Introduction\n",
    "* Tasks & Objectives\n",
    "* Data inspection and wrangling\n",
    "* Exploratory Data Analysis\n",
    "* Conclusion\n"
   ]
  },
  {
   "cell_type": "markdown",
   "id": "06971f5d",
   "metadata": {},
   "source": [
    "### INTRODUCTION\n",
    "Netflix is one of the most popular media and video streaming platforms. They have over 8000 movies or tv shows available on their platform.\n",
    "This data set was created to list all shows available on Netflix streaming, and analyze the data to find interesting facts. This data was acquired in May 2022 containing data available in the United States."
   ]
  },
  {
   "cell_type": "markdown",
   "id": "a210e533",
   "metadata": {},
   "source": [
    "### TASKS & OBJECTIVES\n",
    "* Understanding what content is available in different countries.\n",
    "* Identifying the main content available on the streaming.\n",
    "* Does Netflix has more focus on TV Shows than movies in recent years.\n",
    "* Network analysis on the cast of the titles.\n",
    "* Exploratory data analysis to find interesting insights."
   ]
  },
  {
   "cell_type": "markdown",
   "id": "92702e18",
   "metadata": {},
   "source": [
    "### DATA INSPECTION AND WRANGLING\n",
    "In this section, the data is loaded and the data integrity is assessed. Data cleaning is done; incosistencies are corrected and outliers are dealt with. "
   ]
  },
  {
   "cell_type": "code",
   "execution_count": 107,
   "id": "4770c4d3",
   "metadata": {},
   "outputs": [],
   "source": [
    "# Load the necessary libraries needed for analysis\n",
    "import pandas as pd\n",
    "import numpy as np\n",
    "import matplotlib.pyplot as plt\n",
    "import seaborn as sns\n",
    "%matplotlib inline"
   ]
  },
  {
   "cell_type": "code",
   "execution_count": 146,
   "id": "c0b034de",
   "metadata": {},
   "outputs": [
    {
     "data": {
      "text/html": [
       "<div>\n",
       "<style scoped>\n",
       "    .dataframe tbody tr th:only-of-type {\n",
       "        vertical-align: middle;\n",
       "    }\n",
       "\n",
       "    .dataframe tbody tr th {\n",
       "        vertical-align: top;\n",
       "    }\n",
       "\n",
       "    .dataframe thead th {\n",
       "        text-align: right;\n",
       "    }\n",
       "</style>\n",
       "<table border=\"1\" class=\"dataframe\">\n",
       "  <thead>\n",
       "    <tr style=\"text-align: right;\">\n",
       "      <th></th>\n",
       "      <th>id</th>\n",
       "      <th>title</th>\n",
       "      <th>type</th>\n",
       "      <th>description</th>\n",
       "      <th>release_year</th>\n",
       "      <th>age_certification</th>\n",
       "      <th>runtime</th>\n",
       "      <th>genres</th>\n",
       "      <th>production_countries</th>\n",
       "      <th>seasons</th>\n",
       "      <th>imdb_id</th>\n",
       "      <th>imdb_score</th>\n",
       "      <th>imdb_votes</th>\n",
       "      <th>tmdb_popularity</th>\n",
       "      <th>tmdb_score</th>\n",
       "    </tr>\n",
       "  </thead>\n",
       "  <tbody>\n",
       "    <tr>\n",
       "      <th>0</th>\n",
       "      <td>ts300399</td>\n",
       "      <td>Five Came Back: The Reference Films</td>\n",
       "      <td>SHOW</td>\n",
       "      <td>This collection includes 12 World War II-era p...</td>\n",
       "      <td>1945</td>\n",
       "      <td>TV-MA</td>\n",
       "      <td>48</td>\n",
       "      <td>documentation</td>\n",
       "      <td>US</td>\n",
       "      <td>1</td>\n",
       "      <td>NaN</td>\n",
       "      <td>NaN</td>\n",
       "      <td>NaN</td>\n",
       "      <td>0.600</td>\n",
       "      <td>NaN</td>\n",
       "    </tr>\n",
       "    <tr>\n",
       "      <th>1</th>\n",
       "      <td>tm84618</td>\n",
       "      <td>Taxi Driver</td>\n",
       "      <td>MOVIE</td>\n",
       "      <td>A mentally unstable Vietnam War veteran works ...</td>\n",
       "      <td>1976</td>\n",
       "      <td>R</td>\n",
       "      <td>113</td>\n",
       "      <td>crime, drama</td>\n",
       "      <td>US</td>\n",
       "      <td>0</td>\n",
       "      <td>tt0075314</td>\n",
       "      <td>8.3</td>\n",
       "      <td>795222.0</td>\n",
       "      <td>27.612</td>\n",
       "      <td>8.2</td>\n",
       "    </tr>\n",
       "    <tr>\n",
       "      <th>2</th>\n",
       "      <td>tm127384</td>\n",
       "      <td>Monty Python and the Holy Grail</td>\n",
       "      <td>MOVIE</td>\n",
       "      <td>King Arthur, accompanied by his squire, recrui...</td>\n",
       "      <td>1975</td>\n",
       "      <td>PG</td>\n",
       "      <td>91</td>\n",
       "      <td>comedy, fantasy</td>\n",
       "      <td>GB</td>\n",
       "      <td>0</td>\n",
       "      <td>tt0071853</td>\n",
       "      <td>8.2</td>\n",
       "      <td>530877.0</td>\n",
       "      <td>18.216</td>\n",
       "      <td>7.8</td>\n",
       "    </tr>\n",
       "    <tr>\n",
       "      <th>3</th>\n",
       "      <td>tm70993</td>\n",
       "      <td>Life of Brian</td>\n",
       "      <td>MOVIE</td>\n",
       "      <td>Brian Cohen is an average young Jewish man, bu...</td>\n",
       "      <td>1979</td>\n",
       "      <td>R</td>\n",
       "      <td>94</td>\n",
       "      <td>comedy</td>\n",
       "      <td>GB</td>\n",
       "      <td>0</td>\n",
       "      <td>tt0079470</td>\n",
       "      <td>8.0</td>\n",
       "      <td>392419.0</td>\n",
       "      <td>17.505</td>\n",
       "      <td>7.8</td>\n",
       "    </tr>\n",
       "    <tr>\n",
       "      <th>4</th>\n",
       "      <td>tm190788</td>\n",
       "      <td>The Exorcist</td>\n",
       "      <td>MOVIE</td>\n",
       "      <td>12-year-old Regan MacNeil begins to adapt an e...</td>\n",
       "      <td>1973</td>\n",
       "      <td>R</td>\n",
       "      <td>133</td>\n",
       "      <td>horror</td>\n",
       "      <td>US</td>\n",
       "      <td>0</td>\n",
       "      <td>tt0070047</td>\n",
       "      <td>8.1</td>\n",
       "      <td>391942.0</td>\n",
       "      <td>95.337</td>\n",
       "      <td>7.7</td>\n",
       "    </tr>\n",
       "  </tbody>\n",
       "</table>\n",
       "</div>"
      ],
      "text/plain": [
       "         id                                title   type  \\\n",
       "0  ts300399  Five Came Back: The Reference Films   SHOW   \n",
       "1   tm84618                          Taxi Driver  MOVIE   \n",
       "2  tm127384      Monty Python and the Holy Grail  MOVIE   \n",
       "3   tm70993                        Life of Brian  MOVIE   \n",
       "4  tm190788                         The Exorcist  MOVIE   \n",
       "\n",
       "                                         description  release_year  \\\n",
       "0  This collection includes 12 World War II-era p...          1945   \n",
       "1  A mentally unstable Vietnam War veteran works ...          1976   \n",
       "2  King Arthur, accompanied by his squire, recrui...          1975   \n",
       "3  Brian Cohen is an average young Jewish man, bu...          1979   \n",
       "4  12-year-old Regan MacNeil begins to adapt an e...          1973   \n",
       "\n",
       "  age_certification  runtime           genres production_countries  seasons  \\\n",
       "0             TV-MA       48    documentation                   US        1   \n",
       "1                 R      113     crime, drama                   US        0   \n",
       "2                PG       91  comedy, fantasy                   GB        0   \n",
       "3                 R       94           comedy                   GB        0   \n",
       "4                 R      133           horror                   US        0   \n",
       "\n",
       "     imdb_id  imdb_score  imdb_votes  tmdb_popularity  tmdb_score  \n",
       "0        NaN         NaN         NaN            0.600         NaN  \n",
       "1  tt0075314         8.3    795222.0           27.612         8.2  \n",
       "2  tt0071853         8.2    530877.0           18.216         7.8  \n",
       "3  tt0079470         8.0    392419.0           17.505         7.8  \n",
       "4  tt0070047         8.1    391942.0           95.337         7.7  "
      ]
     },
     "execution_count": 146,
     "metadata": {},
     "output_type": "execute_result"
    }
   ],
   "source": [
    "# load the dataset into a dataframe\n",
    "data = pd.read_csv('C:/Users/AKINDILENI DAYO/Documents/Data Analysis/Netflix/titles.csv')\n",
    "data.head()"
   ]
  },
  {
   "cell_type": "code",
   "execution_count": 109,
   "id": "bc0cd86d",
   "metadata": {},
   "outputs": [
    {
     "data": {
      "text/plain": [
       "(5806, 15)"
      ]
     },
     "execution_count": 109,
     "metadata": {},
     "output_type": "execute_result"
    }
   ],
   "source": [
    "# data structure\n",
    "data.shape"
   ]
  },
  {
   "cell_type": "code",
   "execution_count": 110,
   "id": "a4ba8fb2",
   "metadata": {},
   "outputs": [
    {
     "data": {
      "text/html": [
       "<div>\n",
       "<style scoped>\n",
       "    .dataframe tbody tr th:only-of-type {\n",
       "        vertical-align: middle;\n",
       "    }\n",
       "\n",
       "    .dataframe tbody tr th {\n",
       "        vertical-align: top;\n",
       "    }\n",
       "\n",
       "    .dataframe thead th {\n",
       "        text-align: right;\n",
       "    }\n",
       "</style>\n",
       "<table border=\"1\" class=\"dataframe\">\n",
       "  <thead>\n",
       "    <tr style=\"text-align: right;\">\n",
       "      <th></th>\n",
       "      <th>release_year</th>\n",
       "      <th>runtime</th>\n",
       "      <th>seasons</th>\n",
       "      <th>imdb_score</th>\n",
       "      <th>imdb_votes</th>\n",
       "      <th>tmdb_popularity</th>\n",
       "      <th>tmdb_score</th>\n",
       "    </tr>\n",
       "  </thead>\n",
       "  <tbody>\n",
       "    <tr>\n",
       "      <th>count</th>\n",
       "      <td>5806.000000</td>\n",
       "      <td>5806.000000</td>\n",
       "      <td>5806.000000</td>\n",
       "      <td>5283.000000</td>\n",
       "      <td>5.267000e+03</td>\n",
       "      <td>5712.000000</td>\n",
       "      <td>5488.000000</td>\n",
       "    </tr>\n",
       "    <tr>\n",
       "      <th>mean</th>\n",
       "      <td>2016.013434</td>\n",
       "      <td>77.643989</td>\n",
       "      <td>0.763520</td>\n",
       "      <td>6.533447</td>\n",
       "      <td>2.340719e+04</td>\n",
       "      <td>22.525660</td>\n",
       "      <td>6.818039</td>\n",
       "    </tr>\n",
       "    <tr>\n",
       "      <th>std</th>\n",
       "      <td>7.324883</td>\n",
       "      <td>39.474160</td>\n",
       "      <td>1.876199</td>\n",
       "      <td>1.160932</td>\n",
       "      <td>8.713432e+04</td>\n",
       "      <td>68.849177</td>\n",
       "      <td>1.171560</td>\n",
       "    </tr>\n",
       "    <tr>\n",
       "      <th>min</th>\n",
       "      <td>1945.000000</td>\n",
       "      <td>0.000000</td>\n",
       "      <td>0.000000</td>\n",
       "      <td>1.500000</td>\n",
       "      <td>5.000000e+00</td>\n",
       "      <td>0.009442</td>\n",
       "      <td>0.500000</td>\n",
       "    </tr>\n",
       "    <tr>\n",
       "      <th>25%</th>\n",
       "      <td>2015.000000</td>\n",
       "      <td>44.000000</td>\n",
       "      <td>0.000000</td>\n",
       "      <td>5.800000</td>\n",
       "      <td>5.210000e+02</td>\n",
       "      <td>3.155250</td>\n",
       "      <td>6.100000</td>\n",
       "    </tr>\n",
       "    <tr>\n",
       "      <th>50%</th>\n",
       "      <td>2018.000000</td>\n",
       "      <td>84.000000</td>\n",
       "      <td>0.000000</td>\n",
       "      <td>6.600000</td>\n",
       "      <td>2.279000e+03</td>\n",
       "      <td>7.478000</td>\n",
       "      <td>6.900000</td>\n",
       "    </tr>\n",
       "    <tr>\n",
       "      <th>75%</th>\n",
       "      <td>2020.000000</td>\n",
       "      <td>105.000000</td>\n",
       "      <td>1.000000</td>\n",
       "      <td>7.400000</td>\n",
       "      <td>1.014400e+04</td>\n",
       "      <td>17.775750</td>\n",
       "      <td>7.500000</td>\n",
       "    </tr>\n",
       "    <tr>\n",
       "      <th>max</th>\n",
       "      <td>2022.000000</td>\n",
       "      <td>251.000000</td>\n",
       "      <td>42.000000</td>\n",
       "      <td>9.600000</td>\n",
       "      <td>2.268288e+06</td>\n",
       "      <td>1823.374000</td>\n",
       "      <td>10.000000</td>\n",
       "    </tr>\n",
       "  </tbody>\n",
       "</table>\n",
       "</div>"
      ],
      "text/plain": [
       "       release_year      runtime      seasons   imdb_score    imdb_votes  \\\n",
       "count   5806.000000  5806.000000  5806.000000  5283.000000  5.267000e+03   \n",
       "mean    2016.013434    77.643989     0.763520     6.533447  2.340719e+04   \n",
       "std        7.324883    39.474160     1.876199     1.160932  8.713432e+04   \n",
       "min     1945.000000     0.000000     0.000000     1.500000  5.000000e+00   \n",
       "25%     2015.000000    44.000000     0.000000     5.800000  5.210000e+02   \n",
       "50%     2018.000000    84.000000     0.000000     6.600000  2.279000e+03   \n",
       "75%     2020.000000   105.000000     1.000000     7.400000  1.014400e+04   \n",
       "max     2022.000000   251.000000    42.000000     9.600000  2.268288e+06   \n",
       "\n",
       "       tmdb_popularity   tmdb_score  \n",
       "count      5712.000000  5488.000000  \n",
       "mean         22.525660     6.818039  \n",
       "std          68.849177     1.171560  \n",
       "min           0.009442     0.500000  \n",
       "25%           3.155250     6.100000  \n",
       "50%           7.478000     6.900000  \n",
       "75%          17.775750     7.500000  \n",
       "max        1823.374000    10.000000  "
      ]
     },
     "execution_count": 110,
     "metadata": {},
     "output_type": "execute_result"
    }
   ],
   "source": [
    "# statistical details of the dataset\n",
    "data.describe()"
   ]
  },
  {
   "cell_type": "code",
   "execution_count": 111,
   "id": "d11e8265",
   "metadata": {
    "scrolled": true
   },
   "outputs": [
    {
     "name": "stdout",
     "output_type": "stream",
     "text": [
      "<class 'pandas.core.frame.DataFrame'>\n",
      "RangeIndex: 5806 entries, 0 to 5805\n",
      "Data columns (total 15 columns):\n",
      " #   Column                Non-Null Count  Dtype  \n",
      "---  ------                --------------  -----  \n",
      " 0   id                    5806 non-null   object \n",
      " 1   title                 5805 non-null   object \n",
      " 2   type                  5806 non-null   object \n",
      " 3   description           5788 non-null   object \n",
      " 4   release_year          5806 non-null   int64  \n",
      " 5   age_certification     5806 non-null   object \n",
      " 6   runtime               5806 non-null   int64  \n",
      " 7   genres                5806 non-null   object \n",
      " 8   production_countries  5573 non-null   object \n",
      " 9   seasons               5806 non-null   int64  \n",
      " 10  imdb_id               5362 non-null   object \n",
      " 11  imdb_score            5283 non-null   float64\n",
      " 12  imdb_votes            5267 non-null   float64\n",
      " 13  tmdb_popularity       5712 non-null   float64\n",
      " 14  tmdb_score            5488 non-null   float64\n",
      "dtypes: float64(4), int64(3), object(8)\n",
      "memory usage: 680.5+ KB\n"
     ]
    }
   ],
   "source": [
    "# data information and datatype\n",
    "data.info()"
   ]
  },
  {
   "cell_type": "code",
   "execution_count": 112,
   "id": "22c0da91",
   "metadata": {},
   "outputs": [
    {
     "data": {
      "text/plain": [
       "0"
      ]
     },
     "execution_count": 112,
     "metadata": {},
     "output_type": "execute_result"
    }
   ],
   "source": [
    "# check for duplicates in the dataset\n",
    "data.duplicated().sum()"
   ]
  },
  {
   "cell_type": "code",
   "execution_count": 113,
   "id": "4a69b712",
   "metadata": {},
   "outputs": [
    {
     "data": {
      "text/plain": [
       "id                        0\n",
       "title                     1\n",
       "type                      0\n",
       "description              18\n",
       "release_year              0\n",
       "age_certification         0\n",
       "runtime                   0\n",
       "genres                    0\n",
       "production_countries    233\n",
       "seasons                   0\n",
       "imdb_id                 444\n",
       "imdb_score              523\n",
       "imdb_votes              539\n",
       "tmdb_popularity          94\n",
       "tmdb_score              318\n",
       "dtype: int64"
      ]
     },
     "execution_count": 113,
     "metadata": {},
     "output_type": "execute_result"
    }
   ],
   "source": [
    "# check for null values\n",
    "data.isnull().sum()"
   ]
  },
  {
   "cell_type": "code",
   "execution_count": 114,
   "id": "5d6df13d",
   "metadata": {},
   "outputs": [],
   "source": [
    "# remove columns that are not essential to this analysis\n",
    "data.drop(['description', 'imdb_id', 'imdb_votes', 'imdb_score'], axis=1, inplace = True)"
   ]
  },
  {
   "cell_type": "code",
   "execution_count": 115,
   "id": "0c3fb4c2",
   "metadata": {},
   "outputs": [
    {
     "data": {
      "text/html": [
       "<div>\n",
       "<style scoped>\n",
       "    .dataframe tbody tr th:only-of-type {\n",
       "        vertical-align: middle;\n",
       "    }\n",
       "\n",
       "    .dataframe tbody tr th {\n",
       "        vertical-align: top;\n",
       "    }\n",
       "\n",
       "    .dataframe thead th {\n",
       "        text-align: right;\n",
       "    }\n",
       "</style>\n",
       "<table border=\"1\" class=\"dataframe\">\n",
       "  <thead>\n",
       "    <tr style=\"text-align: right;\">\n",
       "      <th></th>\n",
       "      <th>id</th>\n",
       "      <th>title</th>\n",
       "      <th>type</th>\n",
       "      <th>release_year</th>\n",
       "      <th>age_certification</th>\n",
       "      <th>runtime</th>\n",
       "      <th>genres</th>\n",
       "      <th>production_countries</th>\n",
       "      <th>seasons</th>\n",
       "      <th>tmdb_popularity</th>\n",
       "      <th>tmdb_score</th>\n",
       "    </tr>\n",
       "  </thead>\n",
       "  <tbody>\n",
       "    <tr>\n",
       "      <th>0</th>\n",
       "      <td>ts300399</td>\n",
       "      <td>Five Came Back: The Reference Films</td>\n",
       "      <td>SHOW</td>\n",
       "      <td>1945</td>\n",
       "      <td>TV-MA</td>\n",
       "      <td>48</td>\n",
       "      <td>documentation</td>\n",
       "      <td>US</td>\n",
       "      <td>1</td>\n",
       "      <td>0.600</td>\n",
       "      <td>NaN</td>\n",
       "    </tr>\n",
       "    <tr>\n",
       "      <th>1</th>\n",
       "      <td>tm84618</td>\n",
       "      <td>Taxi Driver</td>\n",
       "      <td>MOVIE</td>\n",
       "      <td>1976</td>\n",
       "      <td>R</td>\n",
       "      <td>113</td>\n",
       "      <td>crime, drama</td>\n",
       "      <td>US</td>\n",
       "      <td>0</td>\n",
       "      <td>27.612</td>\n",
       "      <td>8.2</td>\n",
       "    </tr>\n",
       "  </tbody>\n",
       "</table>\n",
       "</div>"
      ],
      "text/plain": [
       "         id                                title   type  release_year  \\\n",
       "0  ts300399  Five Came Back: The Reference Films   SHOW          1945   \n",
       "1   tm84618                          Taxi Driver  MOVIE          1976   \n",
       "\n",
       "  age_certification  runtime         genres production_countries  seasons  \\\n",
       "0             TV-MA       48  documentation                   US        1   \n",
       "1                 R      113   crime, drama                   US        0   \n",
       "\n",
       "   tmdb_popularity  tmdb_score  \n",
       "0            0.600         NaN  \n",
       "1           27.612         8.2  "
      ]
     },
     "execution_count": 115,
     "metadata": {},
     "output_type": "execute_result"
    }
   ],
   "source": [
    "# preview the outcome\n",
    "data.head(2)"
   ]
  },
  {
   "cell_type": "code",
   "execution_count": 116,
   "id": "acc8269b",
   "metadata": {},
   "outputs": [
    {
     "data": {
      "text/plain": [
       "id                      0\n",
       "title                   0\n",
       "type                    0\n",
       "release_year            0\n",
       "age_certification       0\n",
       "runtime                 0\n",
       "genres                  0\n",
       "production_countries    0\n",
       "seasons                 0\n",
       "tmdb_popularity         0\n",
       "tmdb_score              0\n",
       "dtype: int64"
      ]
     },
     "execution_count": 116,
     "metadata": {},
     "output_type": "execute_result"
    }
   ],
   "source": [
    "# remove null records\n",
    "data.dropna(axis=0, how='any', inplace = True)\n",
    "data.isnull().sum()"
   ]
  },
  {
   "cell_type": "code",
   "execution_count": 117,
   "id": "5261a3e0",
   "metadata": {},
   "outputs": [
    {
     "data": {
      "text/plain": [
       "(5352, 11)"
      ]
     },
     "execution_count": 117,
     "metadata": {},
     "output_type": "execute_result"
    }
   ],
   "source": [
    "data.shape"
   ]
  },
  {
   "cell_type": "code",
   "execution_count": 118,
   "id": "b3471bb0",
   "metadata": {},
   "outputs": [
    {
     "data": {
      "text/html": [
       "<div>\n",
       "<style scoped>\n",
       "    .dataframe tbody tr th:only-of-type {\n",
       "        vertical-align: middle;\n",
       "    }\n",
       "\n",
       "    .dataframe tbody tr th {\n",
       "        vertical-align: top;\n",
       "    }\n",
       "\n",
       "    .dataframe thead th {\n",
       "        text-align: right;\n",
       "    }\n",
       "</style>\n",
       "<table border=\"1\" class=\"dataframe\">\n",
       "  <thead>\n",
       "    <tr style=\"text-align: right;\">\n",
       "      <th></th>\n",
       "      <th>person_id</th>\n",
       "      <th>id</th>\n",
       "      <th>name</th>\n",
       "      <th>character</th>\n",
       "      <th>role</th>\n",
       "    </tr>\n",
       "  </thead>\n",
       "  <tbody>\n",
       "    <tr>\n",
       "      <th>0</th>\n",
       "      <td>3748</td>\n",
       "      <td>tm84618</td>\n",
       "      <td>Robert De Niro</td>\n",
       "      <td>Travis Bickle</td>\n",
       "      <td>ACTOR</td>\n",
       "    </tr>\n",
       "    <tr>\n",
       "      <th>1</th>\n",
       "      <td>14658</td>\n",
       "      <td>tm84618</td>\n",
       "      <td>Jodie Foster</td>\n",
       "      <td>Iris Steensma</td>\n",
       "      <td>ACTOR</td>\n",
       "    </tr>\n",
       "    <tr>\n",
       "      <th>2</th>\n",
       "      <td>7064</td>\n",
       "      <td>tm84618</td>\n",
       "      <td>Albert Brooks</td>\n",
       "      <td>Tom</td>\n",
       "      <td>ACTOR</td>\n",
       "    </tr>\n",
       "    <tr>\n",
       "      <th>3</th>\n",
       "      <td>3739</td>\n",
       "      <td>tm84618</td>\n",
       "      <td>Harvey Keitel</td>\n",
       "      <td>Matthew 'Sport' Higgins</td>\n",
       "      <td>ACTOR</td>\n",
       "    </tr>\n",
       "    <tr>\n",
       "      <th>4</th>\n",
       "      <td>48933</td>\n",
       "      <td>tm84618</td>\n",
       "      <td>Cybill Shepherd</td>\n",
       "      <td>Betsy</td>\n",
       "      <td>ACTOR</td>\n",
       "    </tr>\n",
       "  </tbody>\n",
       "</table>\n",
       "</div>"
      ],
      "text/plain": [
       "   person_id       id             name                character   role\n",
       "0       3748  tm84618   Robert De Niro            Travis Bickle  ACTOR\n",
       "1      14658  tm84618     Jodie Foster            Iris Steensma  ACTOR\n",
       "2       7064  tm84618    Albert Brooks                      Tom  ACTOR\n",
       "3       3739  tm84618    Harvey Keitel  Matthew 'Sport' Higgins  ACTOR\n",
       "4      48933  tm84618  Cybill Shepherd                    Betsy  ACTOR"
      ]
     },
     "execution_count": 118,
     "metadata": {},
     "output_type": "execute_result"
    }
   ],
   "source": [
    "# import the second dataset\n",
    "credit = pd.read_csv('C:/Users/AKINDILENI DAYO/Documents/Data Analysis/Netflix/credits.csv')\n",
    "credit.head()"
   ]
  },
  {
   "cell_type": "code",
   "execution_count": 119,
   "id": "87a3d8bd",
   "metadata": {},
   "outputs": [
    {
     "data": {
      "text/plain": [
       "(77213, 5)"
      ]
     },
     "execution_count": 119,
     "metadata": {},
     "output_type": "execute_result"
    }
   ],
   "source": [
    "# data structure\n",
    "credit.shape"
   ]
  },
  {
   "cell_type": "code",
   "execution_count": 120,
   "id": "dcd247d4",
   "metadata": {},
   "outputs": [
    {
     "data": {
      "text/html": [
       "<div>\n",
       "<style scoped>\n",
       "    .dataframe tbody tr th:only-of-type {\n",
       "        vertical-align: middle;\n",
       "    }\n",
       "\n",
       "    .dataframe tbody tr th {\n",
       "        vertical-align: top;\n",
       "    }\n",
       "\n",
       "    .dataframe thead th {\n",
       "        text-align: right;\n",
       "    }\n",
       "</style>\n",
       "<table border=\"1\" class=\"dataframe\">\n",
       "  <thead>\n",
       "    <tr style=\"text-align: right;\">\n",
       "      <th></th>\n",
       "      <th>person_id</th>\n",
       "    </tr>\n",
       "  </thead>\n",
       "  <tbody>\n",
       "    <tr>\n",
       "      <th>count</th>\n",
       "      <td>7.721300e+04</td>\n",
       "    </tr>\n",
       "    <tr>\n",
       "      <th>mean</th>\n",
       "      <td>4.994603e+05</td>\n",
       "    </tr>\n",
       "    <tr>\n",
       "      <th>std</th>\n",
       "      <td>6.128431e+05</td>\n",
       "    </tr>\n",
       "    <tr>\n",
       "      <th>min</th>\n",
       "      <td>7.000000e+00</td>\n",
       "    </tr>\n",
       "    <tr>\n",
       "      <th>25%</th>\n",
       "      <td>4.158400e+04</td>\n",
       "    </tr>\n",
       "    <tr>\n",
       "      <th>50%</th>\n",
       "      <td>1.829850e+05</td>\n",
       "    </tr>\n",
       "    <tr>\n",
       "      <th>75%</th>\n",
       "      <td>8.415570e+05</td>\n",
       "    </tr>\n",
       "    <tr>\n",
       "      <th>max</th>\n",
       "      <td>2.371585e+06</td>\n",
       "    </tr>\n",
       "  </tbody>\n",
       "</table>\n",
       "</div>"
      ],
      "text/plain": [
       "          person_id\n",
       "count  7.721300e+04\n",
       "mean   4.994603e+05\n",
       "std    6.128431e+05\n",
       "min    7.000000e+00\n",
       "25%    4.158400e+04\n",
       "50%    1.829850e+05\n",
       "75%    8.415570e+05\n",
       "max    2.371585e+06"
      ]
     },
     "execution_count": 120,
     "metadata": {},
     "output_type": "execute_result"
    }
   ],
   "source": [
    "# statistical information\n",
    "credit.describe()"
   ]
  },
  {
   "cell_type": "code",
   "execution_count": 121,
   "id": "c4dfe7d8",
   "metadata": {
    "scrolled": true
   },
   "outputs": [
    {
     "name": "stdout",
     "output_type": "stream",
     "text": [
      "<class 'pandas.core.frame.DataFrame'>\n",
      "RangeIndex: 77213 entries, 0 to 77212\n",
      "Data columns (total 5 columns):\n",
      " #   Column     Non-Null Count  Dtype \n",
      "---  ------     --------------  ----- \n",
      " 0   person_id  77213 non-null  int64 \n",
      " 1   id         77213 non-null  object\n",
      " 2   name       77213 non-null  object\n",
      " 3   character  67586 non-null  object\n",
      " 4   role       77213 non-null  object\n",
      "dtypes: int64(1), object(4)\n",
      "memory usage: 2.9+ MB\n"
     ]
    }
   ],
   "source": [
    "# dataset information and datatype\n",
    "credit.info()"
   ]
  },
  {
   "cell_type": "code",
   "execution_count": 122,
   "id": "f81caee0",
   "metadata": {
    "scrolled": true
   },
   "outputs": [
    {
     "data": {
      "text/plain": [
       "0"
      ]
     },
     "execution_count": 122,
     "metadata": {},
     "output_type": "execute_result"
    }
   ],
   "source": [
    "# check for duplicates\n",
    "credit.duplicated().sum()"
   ]
  },
  {
   "cell_type": "code",
   "execution_count": 123,
   "id": "ff454f38",
   "metadata": {},
   "outputs": [
    {
     "data": {
      "text/plain": [
       "person_id       0\n",
       "id              0\n",
       "name            0\n",
       "character    9627\n",
       "role            0\n",
       "dtype: int64"
      ]
     },
     "execution_count": 123,
     "metadata": {},
     "output_type": "execute_result"
    }
   ],
   "source": [
    "# check for null values\n",
    "credit.isnull().sum()"
   ]
  },
  {
   "cell_type": "code",
   "execution_count": 124,
   "id": "7a1da9bd",
   "metadata": {},
   "outputs": [],
   "source": [
    "# remove columns not essential to analysis\n",
    "credit.drop(['character', 'person_id'], axis=1, inplace = True)"
   ]
  },
  {
   "cell_type": "code",
   "execution_count": 125,
   "id": "846f7ab3",
   "metadata": {},
   "outputs": [
    {
     "data": {
      "text/html": [
       "<div>\n",
       "<style scoped>\n",
       "    .dataframe tbody tr th:only-of-type {\n",
       "        vertical-align: middle;\n",
       "    }\n",
       "\n",
       "    .dataframe tbody tr th {\n",
       "        vertical-align: top;\n",
       "    }\n",
       "\n",
       "    .dataframe thead th {\n",
       "        text-align: right;\n",
       "    }\n",
       "</style>\n",
       "<table border=\"1\" class=\"dataframe\">\n",
       "  <thead>\n",
       "    <tr style=\"text-align: right;\">\n",
       "      <th></th>\n",
       "      <th>id</th>\n",
       "      <th>name</th>\n",
       "      <th>role</th>\n",
       "    </tr>\n",
       "  </thead>\n",
       "  <tbody>\n",
       "    <tr>\n",
       "      <th>0</th>\n",
       "      <td>tm84618</td>\n",
       "      <td>Robert De Niro</td>\n",
       "      <td>ACTOR</td>\n",
       "    </tr>\n",
       "    <tr>\n",
       "      <th>1</th>\n",
       "      <td>tm84618</td>\n",
       "      <td>Jodie Foster</td>\n",
       "      <td>ACTOR</td>\n",
       "    </tr>\n",
       "  </tbody>\n",
       "</table>\n",
       "</div>"
      ],
      "text/plain": [
       "        id            name   role\n",
       "0  tm84618  Robert De Niro  ACTOR\n",
       "1  tm84618    Jodie Foster  ACTOR"
      ]
     },
     "execution_count": 125,
     "metadata": {},
     "output_type": "execute_result"
    }
   ],
   "source": [
    "# preview of outcome\n",
    "credit.head(2)"
   ]
  },
  {
   "cell_type": "markdown",
   "id": "e9ecf4eb",
   "metadata": {},
   "source": [
    "### EXPLORATORY DATA ANALYSIS\n",
    "Now that the data has been cleaned, next is to explore the data to generate insights and complete the tasks highlighted above."
   ]
  },
  {
   "cell_type": "markdown",
   "id": "293bd21c",
   "metadata": {},
   "source": [
    "#### Countries and production quantity\n",
    "Here we evaluate the total number of movies produced by each country and also the number of movies produced by some countries in conjunction with other countries."
   ]
  },
  {
   "cell_type": "code",
   "execution_count": 126,
   "id": "88ea7f9a",
   "metadata": {},
   "outputs": [
    {
     "data": {
      "text/plain": [
       "US                        1912\n",
       "IN                         575\n",
       "JP                         259\n",
       "GB                         214\n",
       "KR                         203\n",
       "                          ... \n",
       "IT, CH, FR                   1\n",
       "HK, IS, US                   1\n",
       "GB, US, SG                   1\n",
       "SG, US, GB, ID, CA, CN       1\n",
       "TZ, GB                       1\n",
       "Name: production_countries, Length: 434, dtype: int64"
      ]
     },
     "execution_count": 126,
     "metadata": {},
     "output_type": "execute_result"
    }
   ],
   "source": [
    "data.production_countries.value_counts()"
   ]
  },
  {
   "cell_type": "code",
   "execution_count": 127,
   "id": "57c22c45",
   "metadata": {},
   "outputs": [],
   "source": [
    "# Top 10 countries with highest production\n",
    "top_10_countries = data.production_countries.value_counts().head(10)"
   ]
  },
  {
   "cell_type": "code",
   "execution_count": 128,
   "id": "580526e0",
   "metadata": {},
   "outputs": [
    {
     "data": {
      "image/png": "[encoded data removed]",
      "text/plain": [
       "<Figure size 648x432 with 1 Axes>"
      ]
     },
     "metadata": {
      "needs_background": "light"
     },
     "output_type": "display_data"
    }
   ],
   "source": [
    "top_10_countries.plot(kind = 'bar', width =0.8, figsize=(9, 6), color='g')\n",
    "plt.title('Top 10 countries with highest production')\n",
    "plt.xlabel('Countries')\n",
    "plt.ylabel('Production count')\n",
    "plt.show()"
   ]
  },
  {
   "cell_type": "markdown",
   "id": "33c86448",
   "metadata": {},
   "source": [
    "From the graph showing the top 10 countries, 'US' has the highest number of production followed by 'IN' with a margin of 1,337."
   ]
  },
  {
   "cell_type": "markdown",
   "id": "832943ed",
   "metadata": {},
   "source": [
    "#### Number of movies per year"
   ]
  },
  {
   "cell_type": "code",
   "execution_count": 129,
   "id": "b761dd46",
   "metadata": {},
   "outputs": [
    {
     "data": {
      "text/plain": [
       "2019    772\n",
       "2018    729\n",
       "2020    722\n",
       "2021    674\n",
       "2017    555\n",
       "2016    355\n",
       "2015    221\n",
       "2022    185\n",
       "2014    150\n",
       "2013    129\n",
       "Name: release_year, dtype: int64"
      ]
     },
     "execution_count": 129,
     "metadata": {},
     "output_type": "execute_result"
    }
   ],
   "source": [
    "# number of movies released per year\n",
    "year_count = data.release_year.value_counts()\n",
    "year_count.head(10)"
   ]
  },
  {
   "cell_type": "code",
   "execution_count": 130,
   "id": "039e8558",
   "metadata": {},
   "outputs": [
    {
     "data": {
      "image/png": "[encoded data removed]",
      "text/plain": [
       "<Figure size 432x288 with 1 Axes>"
      ]
     },
     "metadata": {
      "needs_background": "light"
     },
     "output_type": "display_data"
    }
   ],
   "source": [
    "# plot a line graph to visualize the result\n",
    "sns.lineplot(data= year_count)\n",
    "plt.title('Total shows/movies released over the years')\n",
    "plt.xlim(1950, 2030)\n",
    "plt.xlabel('release year')\n",
    "plt.ylabel('total')\n",
    "plt.show()"
   ]
  },
  {
   "cell_type": "markdown",
   "id": "174c5c7d",
   "metadata": {},
   "source": [
    "The line graph shows a huge increase in production between 2010 and 2020. There has also been a great decrease in production from 2020 till date of this analysis."
   ]
  },
  {
   "cell_type": "markdown",
   "id": "9c92111e",
   "metadata": {},
   "source": [
    "#### Age certification\n",
    "Here we check the total number of production based on its age certification."
   ]
  },
  {
   "cell_type": "code",
   "execution_count": 131,
   "id": "907755f8",
   "metadata": {},
   "outputs": [
    {
     "data": {
      "text/plain": [
       "No rating    2327\n",
       "TV-MA         802\n",
       "R             571\n",
       "PG-13         433\n",
       "TV-14         428\n",
       "Name: age_certification, dtype: int64"
      ]
     },
     "execution_count": 131,
     "metadata": {},
     "output_type": "execute_result"
    }
   ],
   "source": [
    "# most common age certification\n",
    "certification = data.age_certification.value_counts()\n",
    "certification.head()"
   ]
  },
  {
   "cell_type": "code",
   "execution_count": 132,
   "id": "97dd65c2",
   "metadata": {},
   "outputs": [
    {
     "data": {
      "image/png": "[encoded data removed]",
      "text/plain": [
       "<Figure size 648x432 with 1 Axes>"
      ]
     },
     "metadata": {
      "needs_background": "light"
     },
     "output_type": "display_data"
    }
   ],
   "source": [
    "# plotting a bar chart to show the age certification\n",
    "certification.plot(kind='bar', figsize=(9, 6), color='orange')\n",
    "plt.title('Total production based on age certification')\n",
    "plt.xlabel('age_certification')\n",
    "plt.ylabel('total')\n",
    "plt.show()"
   ]
  },
  {
   "cell_type": "markdown",
   "id": "e94af42d",
   "metadata": {},
   "source": [
    "#### Distribution type\n",
    "Does Netflix has more focus on TV Shows than movies in recent years?"
   ]
  },
  {
   "cell_type": "code",
   "execution_count": 133,
   "id": "a3e2cfbd",
   "metadata": {},
   "outputs": [
    {
     "data": {
      "text/plain": [
       "MOVIE    3480\n",
       "SHOW     1872\n",
       "Name: type, dtype: int64"
      ]
     },
     "execution_count": 133,
     "metadata": {},
     "output_type": "execute_result"
    }
   ],
   "source": [
    "# most popular type\n",
    "type_count = data.type.value_counts()\n",
    "type_count.head()"
   ]
  },
  {
   "cell_type": "code",
   "execution_count": 134,
   "id": "98ec6dcb",
   "metadata": {},
   "outputs": [
    {
     "data": {
      "image/png": "[encoded data removed]",
      "text/plain": [
       "<Figure size 720x360 with 1 Axes>"
      ]
     },
     "metadata": {},
     "output_type": "display_data"
    }
   ],
   "source": [
    "# plot a piechart\n",
    "type_count.plot(kind= 'pie', figsize=(10, 5), autopct= '%1.1f%%')\n",
    "plt.title('Type distribution')\n",
    "plt.show()"
   ]
  },
  {
   "cell_type": "markdown",
   "id": "5a52497a",
   "metadata": {},
   "source": [
    "#### Highly voted movies/Tvshows"
   ]
  },
  {
   "cell_type": "code",
   "execution_count": 135,
   "id": "32380fa8",
   "metadata": {},
   "outputs": [
    {
     "data": {
      "text/html": [
       "<div>\n",
       "<style scoped>\n",
       "    .dataframe tbody tr th:only-of-type {\n",
       "        vertical-align: middle;\n",
       "    }\n",
       "\n",
       "    .dataframe tbody tr th {\n",
       "        vertical-align: top;\n",
       "    }\n",
       "\n",
       "    .dataframe thead th {\n",
       "        text-align: right;\n",
       "    }\n",
       "</style>\n",
       "<table border=\"1\" class=\"dataframe\">\n",
       "  <thead>\n",
       "    <tr style=\"text-align: right;\">\n",
       "      <th></th>\n",
       "      <th>id</th>\n",
       "      <th>title</th>\n",
       "      <th>type</th>\n",
       "      <th>release_year</th>\n",
       "      <th>age_certification</th>\n",
       "      <th>runtime</th>\n",
       "      <th>genres</th>\n",
       "      <th>production_countries</th>\n",
       "      <th>seasons</th>\n",
       "      <th>tmdb_popularity</th>\n",
       "      <th>tmdb_score</th>\n",
       "    </tr>\n",
       "  </thead>\n",
       "  <tbody>\n",
       "    <tr>\n",
       "      <th>1</th>\n",
       "      <td>tm84618</td>\n",
       "      <td>Taxi Driver</td>\n",
       "      <td>MOVIE</td>\n",
       "      <td>1976</td>\n",
       "      <td>R</td>\n",
       "      <td>113</td>\n",
       "      <td>crime, drama</td>\n",
       "      <td>US</td>\n",
       "      <td>0</td>\n",
       "      <td>27.612</td>\n",
       "      <td>8.2</td>\n",
       "    </tr>\n",
       "    <tr>\n",
       "      <th>2</th>\n",
       "      <td>tm127384</td>\n",
       "      <td>Monty Python and the Holy Grail</td>\n",
       "      <td>MOVIE</td>\n",
       "      <td>1975</td>\n",
       "      <td>PG</td>\n",
       "      <td>91</td>\n",
       "      <td>comedy, fantasy</td>\n",
       "      <td>GB</td>\n",
       "      <td>0</td>\n",
       "      <td>18.216</td>\n",
       "      <td>7.8</td>\n",
       "    </tr>\n",
       "    <tr>\n",
       "      <th>3</th>\n",
       "      <td>tm70993</td>\n",
       "      <td>Life of Brian</td>\n",
       "      <td>MOVIE</td>\n",
       "      <td>1979</td>\n",
       "      <td>R</td>\n",
       "      <td>94</td>\n",
       "      <td>comedy</td>\n",
       "      <td>GB</td>\n",
       "      <td>0</td>\n",
       "      <td>17.505</td>\n",
       "      <td>7.8</td>\n",
       "    </tr>\n",
       "    <tr>\n",
       "      <th>4</th>\n",
       "      <td>tm190788</td>\n",
       "      <td>The Exorcist</td>\n",
       "      <td>MOVIE</td>\n",
       "      <td>1973</td>\n",
       "      <td>R</td>\n",
       "      <td>133</td>\n",
       "      <td>horror</td>\n",
       "      <td>US</td>\n",
       "      <td>0</td>\n",
       "      <td>95.337</td>\n",
       "      <td>7.7</td>\n",
       "    </tr>\n",
       "    <tr>\n",
       "      <th>5</th>\n",
       "      <td>ts22164</td>\n",
       "      <td>Monty Python's Flying Circus</td>\n",
       "      <td>SHOW</td>\n",
       "      <td>1969</td>\n",
       "      <td>TV-14</td>\n",
       "      <td>30</td>\n",
       "      <td>comedy, european</td>\n",
       "      <td>GB</td>\n",
       "      <td>4</td>\n",
       "      <td>12.919</td>\n",
       "      <td>8.3</td>\n",
       "    </tr>\n",
       "  </tbody>\n",
       "</table>\n",
       "</div>"
      ],
      "text/plain": [
       "         id                            title   type  release_year  \\\n",
       "1   tm84618                      Taxi Driver  MOVIE          1976   \n",
       "2  tm127384  Monty Python and the Holy Grail  MOVIE          1975   \n",
       "3   tm70993                    Life of Brian  MOVIE          1979   \n",
       "4  tm190788                     The Exorcist  MOVIE          1973   \n",
       "5   ts22164     Monty Python's Flying Circus   SHOW          1969   \n",
       "\n",
       "  age_certification  runtime            genres production_countries  seasons  \\\n",
       "1                 R      113      crime, drama                   US        0   \n",
       "2                PG       91   comedy, fantasy                   GB        0   \n",
       "3                 R       94            comedy                   GB        0   \n",
       "4                 R      133            horror                   US        0   \n",
       "5             TV-14       30  comedy, european                   GB        4   \n",
       "\n",
       "   tmdb_popularity  tmdb_score  \n",
       "1           27.612         8.2  \n",
       "2           18.216         7.8  \n",
       "3           17.505         7.8  \n",
       "4           95.337         7.7  \n",
       "5           12.919         8.3  "
      ]
     },
     "execution_count": 135,
     "metadata": {},
     "output_type": "execute_result"
    }
   ],
   "source": [
    "data.head()"
   ]
  },
  {
   "cell_type": "code",
   "execution_count": 136,
   "id": "6baeaa54",
   "metadata": {
    "scrolled": false
   },
   "outputs": [
    {
     "data": {
      "text/html": [
       "<div>\n",
       "<style scoped>\n",
       "    .dataframe tbody tr th:only-of-type {\n",
       "        vertical-align: middle;\n",
       "    }\n",
       "\n",
       "    .dataframe tbody tr th {\n",
       "        vertical-align: top;\n",
       "    }\n",
       "\n",
       "    .dataframe thead th {\n",
       "        text-align: right;\n",
       "    }\n",
       "</style>\n",
       "<table border=\"1\" class=\"dataframe\">\n",
       "  <thead>\n",
       "    <tr style=\"text-align: right;\">\n",
       "      <th></th>\n",
       "      <th>title</th>\n",
       "      <th>tmdb_score</th>\n",
       "      <th>tmdb_popularity</th>\n",
       "      <th>type</th>\n",
       "    </tr>\n",
       "  </thead>\n",
       "  <tbody>\n",
       "    <tr>\n",
       "      <th>1582</th>\n",
       "      <td>The Haunted House</td>\n",
       "      <td>10.0</td>\n",
       "      <td>13.649</td>\n",
       "      <td>SHOW</td>\n",
       "    </tr>\n",
       "    <tr>\n",
       "      <th>3988</th>\n",
       "      <td>Mighty Express</td>\n",
       "      <td>10.0</td>\n",
       "      <td>9.174</td>\n",
       "      <td>SHOW</td>\n",
       "    </tr>\n",
       "    <tr>\n",
       "      <th>4228</th>\n",
       "      <td>The Queen and the Conqueror</td>\n",
       "      <td>10.0</td>\n",
       "      <td>7.958</td>\n",
       "      <td>SHOW</td>\n",
       "    </tr>\n",
       "    <tr>\n",
       "      <th>5461</th>\n",
       "      <td>Supercães</td>\n",
       "      <td>10.0</td>\n",
       "      <td>7.505</td>\n",
       "      <td>SHOW</td>\n",
       "    </tr>\n",
       "    <tr>\n",
       "      <th>5028</th>\n",
       "      <td>Smother-In-Law</td>\n",
       "      <td>10.0</td>\n",
       "      <td>7.430</td>\n",
       "      <td>SHOW</td>\n",
       "    </tr>\n",
       "    <tr>\n",
       "      <th>1600</th>\n",
       "      <td>Rainbow Ruby</td>\n",
       "      <td>10.0</td>\n",
       "      <td>6.616</td>\n",
       "      <td>SHOW</td>\n",
       "    </tr>\n",
       "    <tr>\n",
       "      <th>4645</th>\n",
       "      <td>The Charming Stepmom</td>\n",
       "      <td>10.0</td>\n",
       "      <td>6.550</td>\n",
       "      <td>SHOW</td>\n",
       "    </tr>\n",
       "    <tr>\n",
       "      <th>2786</th>\n",
       "      <td>The Unknown Hitman: The Story of El Cholo Adrián</td>\n",
       "      <td>10.0</td>\n",
       "      <td>6.419</td>\n",
       "      <td>SHOW</td>\n",
       "    </tr>\n",
       "    <tr>\n",
       "      <th>2194</th>\n",
       "      <td>Rainbow Rangers</td>\n",
       "      <td>10.0</td>\n",
       "      <td>5.692</td>\n",
       "      <td>SHOW</td>\n",
       "    </tr>\n",
       "    <tr>\n",
       "      <th>5765</th>\n",
       "      <td>Barbie: It Takes Two</td>\n",
       "      <td>10.0</td>\n",
       "      <td>5.321</td>\n",
       "      <td>SHOW</td>\n",
       "    </tr>\n",
       "  </tbody>\n",
       "</table>\n",
       "</div>"
      ],
      "text/plain": [
       "                                                 title  tmdb_score  \\\n",
       "1582                                 The Haunted House        10.0   \n",
       "3988                                    Mighty Express        10.0   \n",
       "4228                       The Queen and the Conqueror        10.0   \n",
       "5461                                         Supercães        10.0   \n",
       "5028                                    Smother-In-Law        10.0   \n",
       "1600                                      Rainbow Ruby        10.0   \n",
       "4645                              The Charming Stepmom        10.0   \n",
       "2786  The Unknown Hitman: The Story of El Cholo Adrián        10.0   \n",
       "2194                                   Rainbow Rangers        10.0   \n",
       "5765                              Barbie: It Takes Two        10.0   \n",
       "\n",
       "      tmdb_popularity  type  \n",
       "1582           13.649  SHOW  \n",
       "3988            9.174  SHOW  \n",
       "4228            7.958  SHOW  \n",
       "5461            7.505  SHOW  \n",
       "5028            7.430  SHOW  \n",
       "1600            6.616  SHOW  \n",
       "4645            6.550  SHOW  \n",
       "2786            6.419  SHOW  \n",
       "2194            5.692  SHOW  \n",
       "5765            5.321  SHOW  "
      ]
     },
     "execution_count": 136,
     "metadata": {},
     "output_type": "execute_result"
    }
   ],
   "source": [
    "# Top 10 movies with highest rating based on tmdb score and popularity\n",
    "top_10_based_on_tmdb_rating = data.sort_values(['tmdb_score', 'tmdb_popularity'], ascending= False)[['title','tmdb_score','tmdb_popularity', 'type']].head(10)\n",
    "top_10_based_on_tmdb_rating"
   ]
  },
  {
   "cell_type": "code",
   "execution_count": 137,
   "id": "8005c067",
   "metadata": {},
   "outputs": [
    {
     "data": {
      "image/png": "[encoded data removed]",
      "text/plain": [
       "<Figure size 648x432 with 1 Axes>"
      ]
     },
     "metadata": {
      "needs_background": "light"
     },
     "output_type": "display_data"
    }
   ],
   "source": [
    "top_10_based_on_tmdb_rating.plot(kind='barh', x = 'title', y = 'tmdb_popularity', figsize=(9, 6), color = 'orange')\n",
    "plt.title('Top 10 based on tmdb votes')\n",
    "plt.xlabel('tmdb_popularity')\n",
    "plt.ylabel('Title')\n",
    "plt.show()"
   ]
  },
  {
   "cell_type": "markdown",
   "id": "c4215a89",
   "metadata": {},
   "source": [
    "From the graph, 'Inception' has the highest vote followed by 'Forrest Gump'."
   ]
  },
  {
   "cell_type": "markdown",
   "id": "ff0edcd4",
   "metadata": {},
   "source": [
    "#### Top directors and actors\n",
    "Based on tmdb popularity, here are the top 10 directors and actors."
   ]
  },
  {
   "cell_type": "code",
   "execution_count": 138,
   "id": "72c28197",
   "metadata": {},
   "outputs": [],
   "source": [
    "# top directors and actors\n",
    "# merge the datasets\n",
    "data = data.merge(credit, how = 'outer', on= 'id')"
   ]
  },
  {
   "cell_type": "code",
   "execution_count": 139,
   "id": "790cf116",
   "metadata": {},
   "outputs": [
    {
     "data": {
      "text/html": [
       "<div>\n",
       "<style scoped>\n",
       "    .dataframe tbody tr th:only-of-type {\n",
       "        vertical-align: middle;\n",
       "    }\n",
       "\n",
       "    .dataframe tbody tr th {\n",
       "        vertical-align: top;\n",
       "    }\n",
       "\n",
       "    .dataframe thead th {\n",
       "        text-align: right;\n",
       "    }\n",
       "</style>\n",
       "<table border=\"1\" class=\"dataframe\">\n",
       "  <thead>\n",
       "    <tr style=\"text-align: right;\">\n",
       "      <th></th>\n",
       "      <th>id</th>\n",
       "      <th>title</th>\n",
       "      <th>type</th>\n",
       "      <th>release_year</th>\n",
       "      <th>age_certification</th>\n",
       "      <th>runtime</th>\n",
       "      <th>genres</th>\n",
       "      <th>production_countries</th>\n",
       "      <th>seasons</th>\n",
       "      <th>tmdb_popularity</th>\n",
       "      <th>tmdb_score</th>\n",
       "      <th>name</th>\n",
       "      <th>role</th>\n",
       "    </tr>\n",
       "  </thead>\n",
       "  <tbody>\n",
       "    <tr>\n",
       "      <th>0</th>\n",
       "      <td>tm84618</td>\n",
       "      <td>Taxi Driver</td>\n",
       "      <td>MOVIE</td>\n",
       "      <td>1976.0</td>\n",
       "      <td>R</td>\n",
       "      <td>113.0</td>\n",
       "      <td>crime, drama</td>\n",
       "      <td>US</td>\n",
       "      <td>0.0</td>\n",
       "      <td>27.612</td>\n",
       "      <td>8.2</td>\n",
       "      <td>Robert De Niro</td>\n",
       "      <td>ACTOR</td>\n",
       "    </tr>\n",
       "    <tr>\n",
       "      <th>1</th>\n",
       "      <td>tm84618</td>\n",
       "      <td>Taxi Driver</td>\n",
       "      <td>MOVIE</td>\n",
       "      <td>1976.0</td>\n",
       "      <td>R</td>\n",
       "      <td>113.0</td>\n",
       "      <td>crime, drama</td>\n",
       "      <td>US</td>\n",
       "      <td>0.0</td>\n",
       "      <td>27.612</td>\n",
       "      <td>8.2</td>\n",
       "      <td>Jodie Foster</td>\n",
       "      <td>ACTOR</td>\n",
       "    </tr>\n",
       "    <tr>\n",
       "      <th>2</th>\n",
       "      <td>tm84618</td>\n",
       "      <td>Taxi Driver</td>\n",
       "      <td>MOVIE</td>\n",
       "      <td>1976.0</td>\n",
       "      <td>R</td>\n",
       "      <td>113.0</td>\n",
       "      <td>crime, drama</td>\n",
       "      <td>US</td>\n",
       "      <td>0.0</td>\n",
       "      <td>27.612</td>\n",
       "      <td>8.2</td>\n",
       "      <td>Albert Brooks</td>\n",
       "      <td>ACTOR</td>\n",
       "    </tr>\n",
       "    <tr>\n",
       "      <th>3</th>\n",
       "      <td>tm84618</td>\n",
       "      <td>Taxi Driver</td>\n",
       "      <td>MOVIE</td>\n",
       "      <td>1976.0</td>\n",
       "      <td>R</td>\n",
       "      <td>113.0</td>\n",
       "      <td>crime, drama</td>\n",
       "      <td>US</td>\n",
       "      <td>0.0</td>\n",
       "      <td>27.612</td>\n",
       "      <td>8.2</td>\n",
       "      <td>Harvey Keitel</td>\n",
       "      <td>ACTOR</td>\n",
       "    </tr>\n",
       "    <tr>\n",
       "      <th>4</th>\n",
       "      <td>tm84618</td>\n",
       "      <td>Taxi Driver</td>\n",
       "      <td>MOVIE</td>\n",
       "      <td>1976.0</td>\n",
       "      <td>R</td>\n",
       "      <td>113.0</td>\n",
       "      <td>crime, drama</td>\n",
       "      <td>US</td>\n",
       "      <td>0.0</td>\n",
       "      <td>27.612</td>\n",
       "      <td>8.2</td>\n",
       "      <td>Cybill Shepherd</td>\n",
       "      <td>ACTOR</td>\n",
       "    </tr>\n",
       "  </tbody>\n",
       "</table>\n",
       "</div>"
      ],
      "text/plain": [
       "        id        title   type  release_year age_certification  runtime  \\\n",
       "0  tm84618  Taxi Driver  MOVIE        1976.0                 R    113.0   \n",
       "1  tm84618  Taxi Driver  MOVIE        1976.0                 R    113.0   \n",
       "2  tm84618  Taxi Driver  MOVIE        1976.0                 R    113.0   \n",
       "3  tm84618  Taxi Driver  MOVIE        1976.0                 R    113.0   \n",
       "4  tm84618  Taxi Driver  MOVIE        1976.0                 R    113.0   \n",
       "\n",
       "         genres production_countries  seasons  tmdb_popularity  tmdb_score  \\\n",
       "0  crime, drama                   US      0.0           27.612         8.2   \n",
       "1  crime, drama                   US      0.0           27.612         8.2   \n",
       "2  crime, drama                   US      0.0           27.612         8.2   \n",
       "3  crime, drama                   US      0.0           27.612         8.2   \n",
       "4  crime, drama                   US      0.0           27.612         8.2   \n",
       "\n",
       "              name   role  \n",
       "0   Robert De Niro  ACTOR  \n",
       "1     Jodie Foster  ACTOR  \n",
       "2    Albert Brooks  ACTOR  \n",
       "3    Harvey Keitel  ACTOR  \n",
       "4  Cybill Shepherd  ACTOR  "
      ]
     },
     "execution_count": 139,
     "metadata": {},
     "output_type": "execute_result"
    }
   ],
   "source": [
    "data.head()"
   ]
  },
  {
   "cell_type": "markdown",
   "id": "ab3f0e27",
   "metadata": {},
   "source": [
    "##### Top 10 directors"
   ]
  },
  {
   "cell_type": "code",
   "execution_count": 140,
   "id": "1dbf9c11",
   "metadata": {},
   "outputs": [
    {
     "data": {
      "text/html": [
       "<div>\n",
       "<style scoped>\n",
       "    .dataframe tbody tr th:only-of-type {\n",
       "        vertical-align: middle;\n",
       "    }\n",
       "\n",
       "    .dataframe tbody tr th {\n",
       "        vertical-align: top;\n",
       "    }\n",
       "\n",
       "    .dataframe thead th {\n",
       "        text-align: right;\n",
       "    }\n",
       "</style>\n",
       "<table border=\"1\" class=\"dataframe\">\n",
       "  <thead>\n",
       "    <tr style=\"text-align: right;\">\n",
       "      <th></th>\n",
       "      <th>id</th>\n",
       "      <th>title</th>\n",
       "      <th>type</th>\n",
       "      <th>release_year</th>\n",
       "      <th>age_certification</th>\n",
       "      <th>runtime</th>\n",
       "      <th>genres</th>\n",
       "      <th>production_countries</th>\n",
       "      <th>seasons</th>\n",
       "      <th>tmdb_popularity</th>\n",
       "      <th>tmdb_score</th>\n",
       "      <th>name</th>\n",
       "      <th>role</th>\n",
       "    </tr>\n",
       "  </thead>\n",
       "  <tbody>\n",
       "    <tr>\n",
       "      <th>36</th>\n",
       "      <td>tm84618</td>\n",
       "      <td>Taxi Driver</td>\n",
       "      <td>MOVIE</td>\n",
       "      <td>1976.0</td>\n",
       "      <td>R</td>\n",
       "      <td>113.0</td>\n",
       "      <td>crime, drama</td>\n",
       "      <td>US</td>\n",
       "      <td>0.0</td>\n",
       "      <td>27.612</td>\n",
       "      <td>8.2</td>\n",
       "      <td>Martin Scorsese</td>\n",
       "      <td>DIRECTOR</td>\n",
       "    </tr>\n",
       "    <tr>\n",
       "      <th>83</th>\n",
       "      <td>tm127384</td>\n",
       "      <td>Monty Python and the Holy Grail</td>\n",
       "      <td>MOVIE</td>\n",
       "      <td>1975.0</td>\n",
       "      <td>PG</td>\n",
       "      <td>91.0</td>\n",
       "      <td>comedy, fantasy</td>\n",
       "      <td>GB</td>\n",
       "      <td>0.0</td>\n",
       "      <td>18.216</td>\n",
       "      <td>7.8</td>\n",
       "      <td>Terry Jones</td>\n",
       "      <td>DIRECTOR</td>\n",
       "    </tr>\n",
       "    <tr>\n",
       "      <th>84</th>\n",
       "      <td>tm127384</td>\n",
       "      <td>Monty Python and the Holy Grail</td>\n",
       "      <td>MOVIE</td>\n",
       "      <td>1975.0</td>\n",
       "      <td>PG</td>\n",
       "      <td>91.0</td>\n",
       "      <td>comedy, fantasy</td>\n",
       "      <td>GB</td>\n",
       "      <td>0.0</td>\n",
       "      <td>18.216</td>\n",
       "      <td>7.8</td>\n",
       "      <td>Terry Gilliam</td>\n",
       "      <td>DIRECTOR</td>\n",
       "    </tr>\n",
       "    <tr>\n",
       "      <th>106</th>\n",
       "      <td>tm70993</td>\n",
       "      <td>Life of Brian</td>\n",
       "      <td>MOVIE</td>\n",
       "      <td>1979.0</td>\n",
       "      <td>R</td>\n",
       "      <td>94.0</td>\n",
       "      <td>comedy</td>\n",
       "      <td>GB</td>\n",
       "      <td>0.0</td>\n",
       "      <td>17.505</td>\n",
       "      <td>7.8</td>\n",
       "      <td>Terry Jones</td>\n",
       "      <td>DIRECTOR</td>\n",
       "    </tr>\n",
       "    <tr>\n",
       "      <th>148</th>\n",
       "      <td>tm190788</td>\n",
       "      <td>The Exorcist</td>\n",
       "      <td>MOVIE</td>\n",
       "      <td>1973.0</td>\n",
       "      <td>R</td>\n",
       "      <td>133.0</td>\n",
       "      <td>horror</td>\n",
       "      <td>US</td>\n",
       "      <td>0.0</td>\n",
       "      <td>95.337</td>\n",
       "      <td>7.7</td>\n",
       "      <td>William Friedkin</td>\n",
       "      <td>DIRECTOR</td>\n",
       "    </tr>\n",
       "  </tbody>\n",
       "</table>\n",
       "</div>"
      ],
      "text/plain": [
       "           id                            title   type  release_year  \\\n",
       "36    tm84618                      Taxi Driver  MOVIE        1976.0   \n",
       "83   tm127384  Monty Python and the Holy Grail  MOVIE        1975.0   \n",
       "84   tm127384  Monty Python and the Holy Grail  MOVIE        1975.0   \n",
       "106   tm70993                    Life of Brian  MOVIE        1979.0   \n",
       "148  tm190788                     The Exorcist  MOVIE        1973.0   \n",
       "\n",
       "    age_certification  runtime           genres production_countries  seasons  \\\n",
       "36                  R    113.0     crime, drama                   US      0.0   \n",
       "83                 PG     91.0  comedy, fantasy                   GB      0.0   \n",
       "84                 PG     91.0  comedy, fantasy                   GB      0.0   \n",
       "106                 R     94.0           comedy                   GB      0.0   \n",
       "148                 R    133.0           horror                   US      0.0   \n",
       "\n",
       "     tmdb_popularity  tmdb_score              name      role  \n",
       "36            27.612         8.2   Martin Scorsese  DIRECTOR  \n",
       "83            18.216         7.8       Terry Jones  DIRECTOR  \n",
       "84            18.216         7.8     Terry Gilliam  DIRECTOR  \n",
       "106           17.505         7.8       Terry Jones  DIRECTOR  \n",
       "148           95.337         7.7  William Friedkin  DIRECTOR  "
      ]
     },
     "execution_count": 140,
     "metadata": {},
     "output_type": "execute_result"
    }
   ],
   "source": [
    "# filter only directors\n",
    "director = data[data['role'] == 'DIRECTOR']\n",
    "director.head()"
   ]
  },
  {
   "cell_type": "code",
   "execution_count": 141,
   "id": "7277acc8",
   "metadata": {},
   "outputs": [
    {
     "data": {
      "text/html": [
       "<div>\n",
       "<style scoped>\n",
       "    .dataframe tbody tr th:only-of-type {\n",
       "        vertical-align: middle;\n",
       "    }\n",
       "\n",
       "    .dataframe tbody tr th {\n",
       "        vertical-align: top;\n",
       "    }\n",
       "\n",
       "    .dataframe thead th {\n",
       "        text-align: right;\n",
       "    }\n",
       "</style>\n",
       "<table border=\"1\" class=\"dataframe\">\n",
       "  <thead>\n",
       "    <tr style=\"text-align: right;\">\n",
       "      <th></th>\n",
       "      <th>name</th>\n",
       "      <th>tmdb_score</th>\n",
       "      <th>tmdb_popularity</th>\n",
       "    </tr>\n",
       "  </thead>\n",
       "  <tbody>\n",
       "    <tr>\n",
       "      <th>27065</th>\n",
       "      <td>tooniverse</td>\n",
       "      <td>10.0</td>\n",
       "      <td>13.649</td>\n",
       "    </tr>\n",
       "    <tr>\n",
       "      <th>68080</th>\n",
       "      <td>Alex Cabral</td>\n",
       "      <td>10.0</td>\n",
       "      <td>7.430</td>\n",
       "    </tr>\n",
       "    <tr>\n",
       "      <th>27249</th>\n",
       "      <td>Shin Tae sik</td>\n",
       "      <td>10.0</td>\n",
       "      <td>6.616</td>\n",
       "    </tr>\n",
       "    <tr>\n",
       "      <th>63632</th>\n",
       "      <td>Peerapol Kirdjareun</td>\n",
       "      <td>10.0</td>\n",
       "      <td>6.550</td>\n",
       "    </tr>\n",
       "    <tr>\n",
       "      <th>63258</th>\n",
       "      <td>Fabio Ock</td>\n",
       "      <td>10.0</td>\n",
       "      <td>4.847</td>\n",
       "    </tr>\n",
       "    <tr>\n",
       "      <th>40172</th>\n",
       "      <td>Ding Pei</td>\n",
       "      <td>10.0</td>\n",
       "      <td>4.179</td>\n",
       "    </tr>\n",
       "    <tr>\n",
       "      <th>71460</th>\n",
       "      <td>Phil Allora</td>\n",
       "      <td>10.0</td>\n",
       "      <td>3.669</td>\n",
       "    </tr>\n",
       "    <tr>\n",
       "      <th>71461</th>\n",
       "      <td>Jae Woo Kim</td>\n",
       "      <td>10.0</td>\n",
       "      <td>3.669</td>\n",
       "    </tr>\n",
       "    <tr>\n",
       "      <th>63859</th>\n",
       "      <td>Donnie Lai Cheun-Yu</td>\n",
       "      <td>10.0</td>\n",
       "      <td>3.412</td>\n",
       "    </tr>\n",
       "    <tr>\n",
       "      <th>58642</th>\n",
       "      <td>Alberto Lecchi</td>\n",
       "      <td>10.0</td>\n",
       "      <td>2.343</td>\n",
       "    </tr>\n",
       "  </tbody>\n",
       "</table>\n",
       "</div>"
      ],
      "text/plain": [
       "                      name  tmdb_score  tmdb_popularity\n",
       "27065           tooniverse        10.0           13.649\n",
       "68080          Alex Cabral        10.0            7.430\n",
       "27249         Shin Tae sik        10.0            6.616\n",
       "63632  Peerapol Kirdjareun        10.0            6.550\n",
       "63258            Fabio Ock        10.0            4.847\n",
       "40172             Ding Pei        10.0            4.179\n",
       "71460          Phil Allora        10.0            3.669\n",
       "71461          Jae Woo Kim        10.0            3.669\n",
       "63859  Donnie Lai Cheun-Yu        10.0            3.412\n",
       "58642       Alberto Lecchi        10.0            2.343"
      ]
     },
     "execution_count": 141,
     "metadata": {},
     "output_type": "execute_result"
    }
   ],
   "source": [
    "# Top 10 directors based on tmdb score and popularity\n",
    "top_10_director = director.sort_values(['tmdb_score','tmdb_popularity'], ascending = False)[['name', 'tmdb_score','tmdb_popularity']].head(10)\n",
    "top_10_director"
   ]
  },
  {
   "cell_type": "code",
   "execution_count": 142,
   "id": "007cc61f",
   "metadata": {},
   "outputs": [
    {
     "data": {
      "image/png": "[encoded data removed]",
      "text/plain": [
       "<Figure size 648x432 with 1 Axes>"
      ]
     },
     "metadata": {
      "needs_background": "light"
     },
     "output_type": "display_data"
    }
   ],
   "source": [
    "top_10_director.plot(kind= 'barh', y = 'tmdb_popularity', x = 'name', figsize= (9,6), color= 'blue')\n",
    "plt.xlabel('tmdb popularity')\n",
    "plt.ylabel('name')\n",
    "plt.title('Top 10 directors based on tmdb popularity')\n",
    "plt.show()"
   ]
  },
  {
   "cell_type": "markdown",
   "id": "5717fea2",
   "metadata": {},
   "source": [
    "##### Top 10 actors"
   ]
  },
  {
   "cell_type": "code",
   "execution_count": 143,
   "id": "163b0b24",
   "metadata": {},
   "outputs": [
    {
     "data": {
      "text/html": [
       "<div>\n",
       "<style scoped>\n",
       "    .dataframe tbody tr th:only-of-type {\n",
       "        vertical-align: middle;\n",
       "    }\n",
       "\n",
       "    .dataframe tbody tr th {\n",
       "        vertical-align: top;\n",
       "    }\n",
       "\n",
       "    .dataframe thead th {\n",
       "        text-align: right;\n",
       "    }\n",
       "</style>\n",
       "<table border=\"1\" class=\"dataframe\">\n",
       "  <thead>\n",
       "    <tr style=\"text-align: right;\">\n",
       "      <th></th>\n",
       "      <th>id</th>\n",
       "      <th>title</th>\n",
       "      <th>type</th>\n",
       "      <th>release_year</th>\n",
       "      <th>age_certification</th>\n",
       "      <th>runtime</th>\n",
       "      <th>genres</th>\n",
       "      <th>production_countries</th>\n",
       "      <th>seasons</th>\n",
       "      <th>tmdb_popularity</th>\n",
       "      <th>tmdb_score</th>\n",
       "      <th>name</th>\n",
       "      <th>role</th>\n",
       "    </tr>\n",
       "  </thead>\n",
       "  <tbody>\n",
       "    <tr>\n",
       "      <th>0</th>\n",
       "      <td>tm84618</td>\n",
       "      <td>Taxi Driver</td>\n",
       "      <td>MOVIE</td>\n",
       "      <td>1976.0</td>\n",
       "      <td>R</td>\n",
       "      <td>113.0</td>\n",
       "      <td>crime, drama</td>\n",
       "      <td>US</td>\n",
       "      <td>0.0</td>\n",
       "      <td>27.612</td>\n",
       "      <td>8.2</td>\n",
       "      <td>Robert De Niro</td>\n",
       "      <td>ACTOR</td>\n",
       "    </tr>\n",
       "    <tr>\n",
       "      <th>1</th>\n",
       "      <td>tm84618</td>\n",
       "      <td>Taxi Driver</td>\n",
       "      <td>MOVIE</td>\n",
       "      <td>1976.0</td>\n",
       "      <td>R</td>\n",
       "      <td>113.0</td>\n",
       "      <td>crime, drama</td>\n",
       "      <td>US</td>\n",
       "      <td>0.0</td>\n",
       "      <td>27.612</td>\n",
       "      <td>8.2</td>\n",
       "      <td>Jodie Foster</td>\n",
       "      <td>ACTOR</td>\n",
       "    </tr>\n",
       "    <tr>\n",
       "      <th>2</th>\n",
       "      <td>tm84618</td>\n",
       "      <td>Taxi Driver</td>\n",
       "      <td>MOVIE</td>\n",
       "      <td>1976.0</td>\n",
       "      <td>R</td>\n",
       "      <td>113.0</td>\n",
       "      <td>crime, drama</td>\n",
       "      <td>US</td>\n",
       "      <td>0.0</td>\n",
       "      <td>27.612</td>\n",
       "      <td>8.2</td>\n",
       "      <td>Albert Brooks</td>\n",
       "      <td>ACTOR</td>\n",
       "    </tr>\n",
       "    <tr>\n",
       "      <th>3</th>\n",
       "      <td>tm84618</td>\n",
       "      <td>Taxi Driver</td>\n",
       "      <td>MOVIE</td>\n",
       "      <td>1976.0</td>\n",
       "      <td>R</td>\n",
       "      <td>113.0</td>\n",
       "      <td>crime, drama</td>\n",
       "      <td>US</td>\n",
       "      <td>0.0</td>\n",
       "      <td>27.612</td>\n",
       "      <td>8.2</td>\n",
       "      <td>Harvey Keitel</td>\n",
       "      <td>ACTOR</td>\n",
       "    </tr>\n",
       "    <tr>\n",
       "      <th>4</th>\n",
       "      <td>tm84618</td>\n",
       "      <td>Taxi Driver</td>\n",
       "      <td>MOVIE</td>\n",
       "      <td>1976.0</td>\n",
       "      <td>R</td>\n",
       "      <td>113.0</td>\n",
       "      <td>crime, drama</td>\n",
       "      <td>US</td>\n",
       "      <td>0.0</td>\n",
       "      <td>27.612</td>\n",
       "      <td>8.2</td>\n",
       "      <td>Cybill Shepherd</td>\n",
       "      <td>ACTOR</td>\n",
       "    </tr>\n",
       "  </tbody>\n",
       "</table>\n",
       "</div>"
      ],
      "text/plain": [
       "        id        title   type  release_year age_certification  runtime  \\\n",
       "0  tm84618  Taxi Driver  MOVIE        1976.0                 R    113.0   \n",
       "1  tm84618  Taxi Driver  MOVIE        1976.0                 R    113.0   \n",
       "2  tm84618  Taxi Driver  MOVIE        1976.0                 R    113.0   \n",
       "3  tm84618  Taxi Driver  MOVIE        1976.0                 R    113.0   \n",
       "4  tm84618  Taxi Driver  MOVIE        1976.0                 R    113.0   \n",
       "\n",
       "         genres production_countries  seasons  tmdb_popularity  tmdb_score  \\\n",
       "0  crime, drama                   US      0.0           27.612         8.2   \n",
       "1  crime, drama                   US      0.0           27.612         8.2   \n",
       "2  crime, drama                   US      0.0           27.612         8.2   \n",
       "3  crime, drama                   US      0.0           27.612         8.2   \n",
       "4  crime, drama                   US      0.0           27.612         8.2   \n",
       "\n",
       "              name   role  \n",
       "0   Robert De Niro  ACTOR  \n",
       "1     Jodie Foster  ACTOR  \n",
       "2    Albert Brooks  ACTOR  \n",
       "3    Harvey Keitel  ACTOR  \n",
       "4  Cybill Shepherd  ACTOR  "
      ]
     },
     "execution_count": 143,
     "metadata": {},
     "output_type": "execute_result"
    }
   ],
   "source": [
    "# filter only actors\n",
    "actor = data[data['role'] == 'ACTOR']\n",
    "actor.head()"
   ]
  },
  {
   "cell_type": "code",
   "execution_count": 144,
   "id": "058562aa",
   "metadata": {},
   "outputs": [
    {
     "data": {
      "text/html": [
       "<div>\n",
       "<style scoped>\n",
       "    .dataframe tbody tr th:only-of-type {\n",
       "        vertical-align: middle;\n",
       "    }\n",
       "\n",
       "    .dataframe tbody tr th {\n",
       "        vertical-align: top;\n",
       "    }\n",
       "\n",
       "    .dataframe thead th {\n",
       "        text-align: right;\n",
       "    }\n",
       "</style>\n",
       "<table border=\"1\" class=\"dataframe\">\n",
       "  <thead>\n",
       "    <tr style=\"text-align: right;\">\n",
       "      <th></th>\n",
       "      <th>name</th>\n",
       "      <th>tmdb_score</th>\n",
       "      <th>tmdb_popularity</th>\n",
       "    </tr>\n",
       "  </thead>\n",
       "  <tbody>\n",
       "    <tr>\n",
       "      <th>60443</th>\n",
       "      <td>Emmanuel Esparza</td>\n",
       "      <td>10.0</td>\n",
       "      <td>7.958</td>\n",
       "    </tr>\n",
       "    <tr>\n",
       "      <th>60444</th>\n",
       "      <td>Essined Aponte</td>\n",
       "      <td>10.0</td>\n",
       "      <td>7.958</td>\n",
       "    </tr>\n",
       "    <tr>\n",
       "      <th>60445</th>\n",
       "      <td>Manuel Navarro</td>\n",
       "      <td>10.0</td>\n",
       "      <td>7.958</td>\n",
       "    </tr>\n",
       "    <tr>\n",
       "      <th>60446</th>\n",
       "      <td>Álvaro Benet</td>\n",
       "      <td>10.0</td>\n",
       "      <td>7.958</td>\n",
       "    </tr>\n",
       "    <tr>\n",
       "      <th>60447</th>\n",
       "      <td>Alejandro Rodriguez</td>\n",
       "      <td>10.0</td>\n",
       "      <td>7.958</td>\n",
       "    </tr>\n",
       "    <tr>\n",
       "      <th>60448</th>\n",
       "      <td>Luis Mesa</td>\n",
       "      <td>10.0</td>\n",
       "      <td>7.958</td>\n",
       "    </tr>\n",
       "    <tr>\n",
       "      <th>60449</th>\n",
       "      <td>Wolframio Sinué</td>\n",
       "      <td>10.0</td>\n",
       "      <td>7.958</td>\n",
       "    </tr>\n",
       "    <tr>\n",
       "      <th>60450</th>\n",
       "      <td>Gilma Escobar</td>\n",
       "      <td>10.0</td>\n",
       "      <td>7.958</td>\n",
       "    </tr>\n",
       "    <tr>\n",
       "      <th>60451</th>\n",
       "      <td>Maia Landaburu</td>\n",
       "      <td>10.0</td>\n",
       "      <td>7.958</td>\n",
       "    </tr>\n",
       "    <tr>\n",
       "      <th>60452</th>\n",
       "      <td>Alejandro Muñoz</td>\n",
       "      <td>10.0</td>\n",
       "      <td>7.958</td>\n",
       "    </tr>\n",
       "  </tbody>\n",
       "</table>\n",
       "</div>"
      ],
      "text/plain": [
       "                      name  tmdb_score  tmdb_popularity\n",
       "60443     Emmanuel Esparza        10.0            7.958\n",
       "60444       Essined Aponte        10.0            7.958\n",
       "60445       Manuel Navarro        10.0            7.958\n",
       "60446         Álvaro Benet        10.0            7.958\n",
       "60447  Alejandro Rodriguez        10.0            7.958\n",
       "60448            Luis Mesa        10.0            7.958\n",
       "60449      Wolframio Sinué        10.0            7.958\n",
       "60450        Gilma Escobar        10.0            7.958\n",
       "60451       Maia Landaburu        10.0            7.958\n",
       "60452      Alejandro Muñoz        10.0            7.958"
      ]
     },
     "execution_count": 144,
     "metadata": {},
     "output_type": "execute_result"
    }
   ],
   "source": [
    "# Top 10 actors based on tmdb score and popularity\n",
    "top_10_actor = actor.sort_values(['tmdb_score','tmdb_popularity'], ascending = False)[['name', 'tmdb_score', 'tmdb_popularity']].head(10)\n",
    "top_10_actor"
   ]
  },
  {
   "cell_type": "code",
   "execution_count": 145,
   "id": "18f3f714",
   "metadata": {},
   "outputs": [
    {
     "data": {
      "image/png": "[encoded data removed]",
      "text/plain": [
       "<Figure size 648x432 with 1 Axes>"
      ]
     },
     "metadata": {
      "needs_background": "light"
     },
     "output_type": "display_data"
    }
   ],
   "source": [
    "top_10_actor.plot(kind= 'barh', y = 'tmdb_popularity', x = 'name', figsize= (9,6), color= 'blue')\n",
    "plt.xlabel('tmdb popularity')\n",
    "plt.ylabel('name')\n",
    "plt.title('Top 10 actors based on tmdb popularity')\n",
    "plt.show()"
   ]
  },
  {
   "cell_type": "markdown",
   "id": "3d062931",
   "metadata": {},
   "source": [
    "### CONCLUSION\n",
    "From the analysis of the Netflix dataset, I can conclusively state that 'US' had the highest number of independent production(1,912). Also, there was a huge decline in production since 2020 till date. The highly produced type was the movies(65%) while TVshows was 35%.\n",
    "The highly scored and popular director based on tmdb score and popularity is Tooniverse.\n",
    "\n",
    "\n",
    "The limitation I encountered in the process of analysis was having to deal with null values in some columns. Columns that were non-essential to this analysis and columns that had high null values were removed. Also, records with null values were expunged because the total number of records with null values was insignificant(<10%)."
   ]
  },
  {
   "cell_type": "code",
   "execution_count": null,
   "id": "538143a0",
   "metadata": {},
   "outputs": [],
   "source": []
  }
 ],
 "metadata": {
  "kernelspec": {
   "display_name": "Python 3 (ipykernel)",
   "language": "python",
   "name": "python3"
  },
  "language_info": {
   "codemirror_mode": {
    "name": "ipython",
    "version": 3
   },
   "file_extension": ".py",
   "mimetype": "text/x-python",
   "name": "python",
   "nbconvert_exporter": "python",
   "pygments_lexer": "ipython3",
   "version": "3.9.7"
  }
 },
 "nbformat": 4,
 "nbformat_minor": 5
}
